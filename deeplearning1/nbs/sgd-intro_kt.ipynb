{
 "cells": [
  {
   "cell_type": "code",
   "execution_count": 29,
   "metadata": {
    "collapsed": false
   },
   "outputs": [],
   "source": [
    "%matplotlib inline\n",
    "import numpy as np\n",
    "from numpy.random import random\n",
    "from matplotlib import pyplot as plt, rcParams, rc, animation\n",
    "rc('animation', html='html5')\n",
    "rcParams['figure.figsize'] = 3, 3\n",
    "%precision 4\n",
    "np.set_printoptions(precision=4, linewidth=100)"
   ]
  },
  {
   "cell_type": "code",
   "execution_count": 1,
   "metadata": {
    "collapsed": true
   },
   "outputs": [],
   "source": [
    "# define a linear function\n",
    "def lin(a,b,x): return (a*x)+b"
   ]
  },
  {
   "cell_type": "code",
   "execution_count": 2,
   "metadata": {
    "collapsed": true
   },
   "outputs": [],
   "source": [
    "a=3.\n",
    "b=8."
   ]
  },
  {
   "cell_type": "code",
   "execution_count": 5,
   "metadata": {
    "collapsed": false
   },
   "outputs": [],
   "source": [
    "# generate input (x) and output (y)\n",
    "n=30\n",
    "x = random(n)\n",
    "y = lin(a,b,x)"
   ]
  },
  {
   "cell_type": "code",
   "execution_count": 6,
   "metadata": {
    "collapsed": false
   },
   "outputs": [
    {
     "data": {
      "text/plain": [
       "array([ 0.18230059,  0.00321185,  0.64873583,  0.29683204,  0.15940999,\n",
       "        0.67897891,  0.1228799 ,  0.27586181,  0.72344976,  0.21383845,\n",
       "        0.4122877 ,  0.1288414 ,  0.07345681,  0.64165869,  0.79475941,\n",
       "        0.440906  ,  0.25354254,  0.60543873,  0.7788941 ,  0.13944802,\n",
       "        0.22444245,  0.29791989,  0.6355432 ,  0.87399988,  0.94010031,\n",
       "        0.73451378,  0.96217159,  0.38723161,  0.62015315,  0.48702435])"
      ]
     },
     "execution_count": 6,
     "metadata": {},
     "output_type": "execute_result"
    }
   ],
   "source": [
    "x"
   ]
  },
  {
   "cell_type": "code",
   "execution_count": 7,
   "metadata": {
    "collapsed": false
   },
   "outputs": [
    {
     "data": {
      "text/plain": [
       "array([  8.54690176,   8.00963555,   9.9462075 ,   8.89049611,\n",
       "         8.47822998,  10.03693674,   8.3686397 ,   8.82758544,\n",
       "        10.17034928,   8.64151534,   9.23686309,   8.3865242 ,\n",
       "         8.22037044,   9.92497606,  10.38427824,   9.32271799,\n",
       "         8.76062763,   9.8163162 ,  10.33668231,   8.41834405,\n",
       "         8.67332734,   8.89375968,   9.90662959,  10.62199963,\n",
       "        10.82030092,  10.20354133,  10.88651478,   9.16169484,\n",
       "         9.86045946,   9.46107305])"
      ]
     },
     "execution_count": 7,
     "metadata": {},
     "output_type": "execute_result"
    }
   ],
   "source": [
    "y"
   ]
  },
  {
   "cell_type": "code",
   "execution_count": 12,
   "metadata": {
    "collapsed": false
   },
   "outputs": [
    {
     "data": {
      "text/plain": [
       "<matplotlib.collections.PathCollection at 0x7fc74695fa50>"
      ]
     },
     "execution_count": 12,
     "metadata": {},
     "output_type": "execute_result"
    },
    {
     "data": {
      "image/png": "[encoded data removed]",
      "text/plain": [
       "<matplotlib.figure.Figure at 0x7fc77c1c0c10>"
      ]
     },
     "metadata": {},
     "output_type": "display_data"
    }
   ],
   "source": [
    "plt.scatter(x,y)"
   ]
  },
  {
   "cell_type": "code",
   "execution_count": 15,
   "metadata": {
    "collapsed": false
   },
   "outputs": [],
   "source": [
    "# define a loss function: sum of squared error\n",
    "# loss function = (y-(a*x+b))**2\n",
    "def sse(y,y_pred): return ((y-y_pred)**2).sum()\n",
    "def loss(y,a,b,x): return sse(y, lin(a,b,x))\n",
    "def avg_loss(y,a,b,x): return np.sqrt(loss(y,a,b,x)/n)"
   ]
  },
  {
   "cell_type": "code",
   "execution_count": 33,
   "metadata": {
    "collapsed": false
   },
   "outputs": [
    {
     "data": {
      "text/plain": [
       "8.9013"
      ]
     },
     "execution_count": 33,
     "metadata": {},
     "output_type": "execute_result"
    }
   ],
   "source": [
    "# Pretend we don't know a & b\n",
    "a_guess = -1.\n",
    "b_guess = 1.\n",
    "avg_loss(y,a_guess,b_guess,x)"
   ]
  },
  {
   "cell_type": "code",
   "execution_count": 17,
   "metadata": {
    "collapsed": true
   },
   "outputs": [],
   "source": [
    "# set a learning rate\n",
    "lr = 0.01\n",
    "\n",
    "'''\n",
    "l = loss function = (y-(a*x+b))**2\n",
    "note: dl/dn = derivative of loss function wrt n\n",
    "dl/db\t= 2 (b + a x - y)\t= 2 (y_pred - y)\n",
    "dl/da\t= 2 x (b + a x - y)\t= x * dl/db\n",
    "'''"
   ]
  },
  {
   "cell_type": "code",
   "execution_count": 34,
   "metadata": {
    "collapsed": false
   },
   "outputs": [],
   "source": [
    "def upd():\n",
    "    global a_guess, b_guess\n",
    "    y_pred = lin(a_guess, b_guess, x)\n",
    "    # calculate gradient of loss wrt a, b\n",
    "    dldb = 2*(y_pred-y)\n",
    "    dlda = x*dldb\n",
    "    # update the guesses in the opposite direction of the gradient\n",
    "    a_guess -= lr*dlda.mean()\n",
    "    b_guess -= lr*dldb.mean()"
   ]
  },
  {
   "cell_type": "code",
   "execution_count": 51,
   "metadata": {
    "collapsed": false
   },
   "outputs": [
    {
     "name": "stdout",
     "output_type": "stream",
     "text": [
      "2.19290543696\n",
      "7.40760750004\n"
     ]
    },
    {
     "data": {
      "image/png": "[encoded data removed]",
      "text/plain": [
       "<matplotlib.figure.Figure at 0x7fc745ec6ad0>"
      ]
     },
     "metadata": {},
     "output_type": "display_data"
    }
   ],
   "source": [
    "#plot y_pred (predicted output)\n",
    "fig = plt.figure(dpi=100, figsize=(5, 4))\n",
    "plt.scatter(x,y)\n",
    "line, = plt.plot(x,lin(a_guess,b_guess,x))\n",
    "\n",
    "for i in range(10):\n",
    "    line.set_ydata(lin(a_guess,b_guess,x)) #set y data of plot\n",
    "    upd()\n",
    "print(a_guess)\n",
    "print(b_guess)"
   ]
  },
  {
   "cell_type": "code",
   "execution_count": null,
   "metadata": {
    "collapsed": true
   },
   "outputs": [],
   "source": []
  }
 ],
 "metadata": {
  "kernelspec": {
   "display_name": "Python 2",
   "language": "python",
   "name": "python2"
  },
  "language_info": {
   "codemirror_mode": {
    "name": "ipython",
    "version": 2
   },
   "file_extension": ".py",
   "mimetype": "text/x-python",
   "name": "python",
   "nbconvert_exporter": "python",
   "pygments_lexer": "ipython2",
   "version": "2.7.13"
  }
 },
 "nbformat": 4,
 "nbformat_minor": 2
}
